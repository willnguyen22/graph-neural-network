{
 "cells": [
  {
   "cell_type": "code",
   "execution_count": null,
   "metadata": {},
   "outputs": [],
   "source": [
    "# !pip install networkx\n",
    "# !pip install tqdm\n",
    "# !pip install pydot"
   ]
  },
  {
   "cell_type": "code",
   "execution_count": 86,
   "metadata": {},
   "outputs": [],
   "source": [
    "import os\n",
    "from collections import defaultdict\n",
    "import math\n",
    "import networkx as nx \n",
    "import random\n",
    "from tqdm import tqdm\n",
    "from zipfile import ZipFile\n",
    "from urllib.request import urlretrieve\n",
    "import numpy as np\n",
    "import pandas as pd\n",
    "import tensorflow as tf\n",
    "from tensorflow import keras\n",
    "from tensorflow.keras import layers\n",
    "import matplotlib.pyplot as plt\n",
    "from __future__ import annotations"
   ]
  },
  {
   "cell_type": "code",
   "execution_count": 3,
   "metadata": {},
   "outputs": [
    {
     "data": {
      "text/plain": [
       "'2.5.0'"
      ]
     },
     "execution_count": 3,
     "metadata": {},
     "output_type": "execute_result"
    }
   ],
   "source": [
    "tf.__version__"
   ]
  },
  {
   "cell_type": "markdown",
   "metadata": {},
   "source": [
    "# Data setup"
   ]
  },
  {
   "cell_type": "code",
   "execution_count": 6,
   "metadata": {},
   "outputs": [],
   "source": [
    "urlretrieve(\"http://files.grouplens.org/datasets/movielens/ml-latest-small.zip\", \"movielens.zip\")\n",
    "ZipFile(\"movielens.zip\",'r').extractall()"
   ]
  },
  {
   "cell_type": "markdown",
   "metadata": {},
   "source": [
    "# Read downloaded files"
   ]
  },
  {
   "cell_type": "code",
   "execution_count": 110,
   "metadata": {},
   "outputs": [
    {
     "data": {
      "text/html": [
       "<div>\n",
       "<style scoped>\n",
       "    .dataframe tbody tr th:only-of-type {\n",
       "        vertical-align: middle;\n",
       "    }\n",
       "\n",
       "    .dataframe tbody tr th {\n",
       "        vertical-align: top;\n",
       "    }\n",
       "\n",
       "    .dataframe thead th {\n",
       "        text-align: right;\n",
       "    }\n",
       "</style>\n",
       "<table border=\"1\" class=\"dataframe\">\n",
       "  <thead>\n",
       "    <tr style=\"text-align: right;\">\n",
       "      <th></th>\n",
       "      <th>movieId</th>\n",
       "      <th>title</th>\n",
       "      <th>genres</th>\n",
       "    </tr>\n",
       "  </thead>\n",
       "  <tbody>\n",
       "    <tr>\n",
       "      <th>0</th>\n",
       "      <td>movie_1</td>\n",
       "      <td>Toy Story (1995)</td>\n",
       "      <td>Adventure|Animation|Children|Comedy|Fantasy</td>\n",
       "    </tr>\n",
       "  </tbody>\n",
       "</table>\n",
       "</div>"
      ],
      "text/plain": [
       "   movieId             title                                       genres\n",
       "0  movie_1  Toy Story (1995)  Adventure|Animation|Children|Comedy|Fantasy"
      ]
     },
     "execution_count": 110,
     "metadata": {},
     "output_type": "execute_result"
    }
   ],
   "source": [
    "movies = pd.read_csv(\"./ml-latest-small/movies.csv\")\n",
    "movies['movieId'] = movies['movieId'].apply(lambda x: f'movie_{x}')\n",
    "movies.head(1)"
   ]
  },
  {
   "cell_type": "code",
   "execution_count": 111,
   "metadata": {},
   "outputs": [],
   "source": [
    "ratings = pd.read_csv(\"./ml-latest-small/ratings.csv\")\n",
    "ratings[\"rating\"] = ratings[\"rating\"].astype(float)\n",
    "ratings[\"movieId\"] = ratings[\"movieId\"].apply(lambda x: f\"movie_{x}\")"
   ]
  },
  {
   "cell_type": "code",
   "execution_count": 112,
   "metadata": {},
   "outputs": [
    {
     "name": "stdout",
     "output_type": "stream",
     "text": [
      "Movies data shape: (9742, 3)\n",
      "Ratings data shape: (100836, 4)\n"
     ]
    }
   ],
   "source": [
    "print(\"Movies data shape:\", movies.shape)\n",
    "print(\"Ratings data shape:\", ratings.shape)"
   ]
  },
  {
   "cell_type": "code",
   "execution_count": 113,
   "metadata": {},
   "outputs": [
    {
     "data": {
      "text/html": [
       "<div>\n",
       "<style scoped>\n",
       "    .dataframe tbody tr th:only-of-type {\n",
       "        vertical-align: middle;\n",
       "    }\n",
       "\n",
       "    .dataframe tbody tr th {\n",
       "        vertical-align: top;\n",
       "    }\n",
       "\n",
       "    .dataframe thead th {\n",
       "        text-align: right;\n",
       "    }\n",
       "</style>\n",
       "<table border=\"1\" class=\"dataframe\">\n",
       "  <thead>\n",
       "    <tr style=\"text-align: right;\">\n",
       "      <th></th>\n",
       "      <th>userId</th>\n",
       "      <th>movieId</th>\n",
       "      <th>rating</th>\n",
       "      <th>timestamp</th>\n",
       "    </tr>\n",
       "  </thead>\n",
       "  <tbody>\n",
       "    <tr>\n",
       "      <th>0</th>\n",
       "      <td>1</td>\n",
       "      <td>movie_1</td>\n",
       "      <td>4.0</td>\n",
       "      <td>964982703</td>\n",
       "    </tr>\n",
       "    <tr>\n",
       "      <th>1</th>\n",
       "      <td>1</td>\n",
       "      <td>movie_3</td>\n",
       "      <td>4.0</td>\n",
       "      <td>964981247</td>\n",
       "    </tr>\n",
       "    <tr>\n",
       "      <th>2</th>\n",
       "      <td>1</td>\n",
       "      <td>movie_6</td>\n",
       "      <td>4.0</td>\n",
       "      <td>964982224</td>\n",
       "    </tr>\n",
       "    <tr>\n",
       "      <th>3</th>\n",
       "      <td>1</td>\n",
       "      <td>movie_47</td>\n",
       "      <td>5.0</td>\n",
       "      <td>964983815</td>\n",
       "    </tr>\n",
       "    <tr>\n",
       "      <th>4</th>\n",
       "      <td>1</td>\n",
       "      <td>movie_50</td>\n",
       "      <td>5.0</td>\n",
       "      <td>964982931</td>\n",
       "    </tr>\n",
       "  </tbody>\n",
       "</table>\n",
       "</div>"
      ],
      "text/plain": [
       "   userId   movieId  rating  timestamp\n",
       "0       1   movie_1     4.0  964982703\n",
       "1       1   movie_3     4.0  964981247\n",
       "2       1   movie_6     4.0  964982224\n",
       "3       1  movie_47     5.0  964983815\n",
       "4       1  movie_50     5.0  964982931"
      ]
     },
     "execution_count": 113,
     "metadata": {},
     "output_type": "execute_result"
    }
   ],
   "source": [
    "ratings.head()"
   ]
  },
  {
   "cell_type": "code",
   "execution_count": 114,
   "metadata": {},
   "outputs": [
    {
     "data": {
      "text/html": [
       "<div>\n",
       "<style scoped>\n",
       "    .dataframe tbody tr th:only-of-type {\n",
       "        vertical-align: middle;\n",
       "    }\n",
       "\n",
       "    .dataframe tbody tr th {\n",
       "        vertical-align: top;\n",
       "    }\n",
       "\n",
       "    .dataframe thead th {\n",
       "        text-align: right;\n",
       "    }\n",
       "</style>\n",
       "<table border=\"1\" class=\"dataframe\">\n",
       "  <thead>\n",
       "    <tr style=\"text-align: right;\">\n",
       "      <th></th>\n",
       "      <th>movieId</th>\n",
       "      <th>title</th>\n",
       "      <th>genres</th>\n",
       "    </tr>\n",
       "  </thead>\n",
       "  <tbody>\n",
       "    <tr>\n",
       "      <th>0</th>\n",
       "      <td>movie_1</td>\n",
       "      <td>Toy Story (1995)</td>\n",
       "      <td>Adventure|Animation|Children|Comedy|Fantasy</td>\n",
       "    </tr>\n",
       "    <tr>\n",
       "      <th>1</th>\n",
       "      <td>movie_2</td>\n",
       "      <td>Jumanji (1995)</td>\n",
       "      <td>Adventure|Children|Fantasy</td>\n",
       "    </tr>\n",
       "    <tr>\n",
       "      <th>2</th>\n",
       "      <td>movie_3</td>\n",
       "      <td>Grumpier Old Men (1995)</td>\n",
       "      <td>Comedy|Romance</td>\n",
       "    </tr>\n",
       "    <tr>\n",
       "      <th>3</th>\n",
       "      <td>movie_4</td>\n",
       "      <td>Waiting to Exhale (1995)</td>\n",
       "      <td>Comedy|Drama|Romance</td>\n",
       "    </tr>\n",
       "    <tr>\n",
       "      <th>4</th>\n",
       "      <td>movie_5</td>\n",
       "      <td>Father of the Bride Part II (1995)</td>\n",
       "      <td>Comedy</td>\n",
       "    </tr>\n",
       "  </tbody>\n",
       "</table>\n",
       "</div>"
      ],
      "text/plain": [
       "   movieId                               title  \\\n",
       "0  movie_1                    Toy Story (1995)   \n",
       "1  movie_2                      Jumanji (1995)   \n",
       "2  movie_3             Grumpier Old Men (1995)   \n",
       "3  movie_4            Waiting to Exhale (1995)   \n",
       "4  movie_5  Father of the Bride Part II (1995)   \n",
       "\n",
       "                                        genres  \n",
       "0  Adventure|Animation|Children|Comedy|Fantasy  \n",
       "1                   Adventure|Children|Fantasy  \n",
       "2                               Comedy|Romance  \n",
       "3                         Comedy|Drama|Romance  \n",
       "4                                       Comedy  "
      ]
     },
     "execution_count": 114,
     "metadata": {},
     "output_type": "execute_result"
    }
   ],
   "source": [
    "movies.head()"
   ]
  },
  {
   "cell_type": "markdown",
   "metadata": {},
   "source": [
    "# Utils function"
   ]
  },
  {
   "cell_type": "code",
   "execution_count": 115,
   "metadata": {},
   "outputs": [
    {
     "name": "stdout",
     "output_type": "stream",
     "text": [
      "movie_4\n",
      "City Hall (1996)\n"
     ]
    }
   ],
   "source": [
    "def get_movie_title_by_id(movieId) -> Movie[str]:\n",
    "    return movies[movies['movieId']== movieId]['title'].to_list()[0]\n",
    "\n",
    "def get_movie_id_by_title(title) -> Movie[str]:\n",
    "    return movies[movies['title']== title]['movieId'].tolist()[0]\n",
    "\n",
    "print(get_movie_id_by_title(\"Waiting to Exhale (1995)\"))\n",
    "print(get_movie_title_by_id(\"movie_100\"))\n"
   ]
  },
  {
   "cell_type": "markdown",
   "metadata": {},
   "source": [
    "# Construct movie graph"
   ]
  },
  {
   "cell_type": "markdown",
   "metadata": {},
   "source": [
    "## Step 1: create the weighted edges between movies"
   ]
  },
  {
   "cell_type": "code",
   "execution_count": 116,
   "metadata": {},
   "outputs": [
    {
     "name": "stderr",
     "output_type": "stream",
     "text": [
      "Computing movie rating feature: 100%|██████████| 573/573 [00:00<00:00, 806.27it/s]\n"
     ]
    }
   ],
   "source": [
    "min_rating = 5\n",
    "pair_frequency = defaultdict(int)\n",
    "item_frequency = defaultdict(int)\n",
    "\n",
    "rated_movies = ratings[ratings.rating >= min_rating]\n",
    "movies_grouped_by_users = list(rated_movies.groupby('userId'))\n",
    "# idea: group by userId then count movie appearance and pair (movie_x, movie_y) appearance\n",
    "\n",
    "for group in tqdm(movies_grouped_by_users, position=0, leave=True, desc=\"Computing movie rating feature\"):\n",
    "    # group: Tuple(userId, List[movieId])\n",
    "    movie_list = group[1]['movieId'].tolist()\n",
    "    for i in range(len(movie_list)):\n",
    "        item_frequency[movie_list[i]] += 1\n",
    "        for j in range(i+1, len(movie_list)):\n",
    "            m_1 = min(movie_list[i], movie_list[j]) # min(\"movie_1\",\"movie_2\") => \"movie_1\"\n",
    "            m_2 = max(movie_list[i], movie_list[j]) \n",
    "            pair_frequency[(m_1, m_2)] += 1\n",
    "            \n",
    "    "
   ]
  },
  {
   "cell_type": "markdown",
   "metadata": {},
   "source": [
    "## Step 2: Create the graph with the nodes and edges"
   ]
  },
  {
   "cell_type": "code",
   "execution_count": 117,
   "metadata": {},
   "outputs": [
    {
     "name": "stderr",
     "output_type": "stream",
     "text": [
      "Creating movie graph: 100%|██████████| 298586/298586 [00:00<00:00, 422653.96it/s]\n"
     ]
    }
   ],
   "source": [
    "min_weight = 10\n",
    "D = math.log(sum(item_frequency.values()))\n",
    "\n",
    "# Create the movie undirected graph\n",
    "movies_graph = nx.Graph()\n",
    "# Add weighted edges between movies\n",
    "# This automatic add nodes to the graph\n",
    "for pair in tqdm(pair_frequency.keys(), position=0, leave=True, desc=\"Creating movie graph\"):\n",
    "    x,y = pair\n",
    "    xy_frequency = pair_frequency[pair]\n",
    "    x_frequency = item_frequency[x]\n",
    "    y_frequency = item_frequency[y]\n",
    "    pmi = math.log(xy_frequency) \\\n",
    "        - math.log(x_frequency) \\\n",
    "        - math.log(y_frequency) \\\n",
    "        + D\n",
    "    weight = pmi * xy_frequency\n",
    "    # Only include edge with weight >= min_weight\n",
    "    if weight >= min_weight:\n",
    "        movies_graph.add_edge(x, y, weight=weight)\n",
    "    \n",
    "    "
   ]
  },
  {
   "cell_type": "code",
   "execution_count": 118,
   "metadata": {},
   "outputs": [
    {
     "name": "stdout",
     "output_type": "stream",
     "text": [
      "total node: 1405\n",
      "total edge: 40043\n"
     ]
    }
   ],
   "source": [
    "print(\"total node:\", movies_graph.number_of_nodes())\n",
    "print(\"total edge:\", movies_graph.number_of_edges())"
   ]
  },
  {
   "cell_type": "code",
   "execution_count": 119,
   "metadata": {},
   "outputs": [
    {
     "name": "stdout",
     "output_type": "stream",
     "text": [
      "Mean degree: 57.00071174377224\n"
     ]
    }
   ],
   "source": [
    "degrees = [movies_graph.degree[node] for node in movies_graph.nodes]\n",
    "print(\"Mean degree:\", np.mean(degrees))"
   ]
  },
  {
   "cell_type": "markdown",
   "metadata": {},
   "source": [
    "## Step 3: Create vocabulary and a mapping from tokens to integer indices"
   ]
  },
  {
   "cell_type": "code",
   "execution_count": 120,
   "metadata": {},
   "outputs": [],
   "source": [
    "vocabulary = [\"NA\"] + list(movies_graph.nodes)\n",
    "vocabulary_lookup = {token: idx for idx, token in enumerate(vocabulary)}"
   ]
  },
  {
   "cell_type": "code",
   "execution_count": 121,
   "metadata": {},
   "outputs": [
    {
     "data": {
      "text/plain": [
       "299"
      ]
     },
     "execution_count": 121,
     "metadata": {},
     "output_type": "execute_result"
    }
   ],
   "source": [
    "vocabulary_lookup[\"movie_10\"]"
   ]
  },
  {
   "cell_type": "markdown",
   "metadata": {},
   "source": [
    "# Implement the biased random walk"
   ]
  },
  {
   "cell_type": "markdown",
   "metadata": {},
   "source": [
    "A random walk starts from a given node, and randomly picks a neighbour node to move to. If the edges are weighted, the neighbour is selected probabilistically with respect to weights of the edges between the current node and its neighbours. This procedure is repeated for num_steps to generate a sequence of related nodes.\n",
    "\n",
    "The biased random walk balances between breadth-first sampling (where only local neighbours are visited) and depth-first sampling (where distant neighbours are visited) by introducing the following two parameters:\n",
    "\n",
    "* Return parameter (p): Controls the likelihood of immediately revisiting a node in the walk. Setting it to a high value encourages moderate exploration, while setting it to a low value would keep the walk local.\n",
    "* In-out parameter (q): Allows the search to differentiate between inward and outward nodes. Setting it to a high value biases the random walk towards local nodes, while setting it to a low value biases the walk to visit nodes which are further away.\n"
   ]
  },
  {
   "cell_type": "code",
   "execution_count": 126,
   "metadata": {},
   "outputs": [],
   "source": [
    "def next_step(graph: Graph, previous: str, current:str, p: float, q: float) -> Node[str]: \n",
    "    neighbors = list(graph.neighbors(current)) # get neighbor nodes and their weights \n",
    "    weights = []\n",
    "    for neighbor in neighbors:\n",
    "        if neighbor == previous:\n",
    "            # p mean the return parameter - control the probability to the previous node\n",
    "            weights.append(graph[current][previous][\"weight\"] / p)\n",
    "        elif graph.has_edge(neighbor, previous):\n",
    "            # control the probability of visiting the local node\n",
    "            weights.append(graph[current][neighbor][\"weight\"])\n",
    "        else:\n",
    "            # q mean the in-out parameter - control the probability to move forward\n",
    "            weights.append(graph[current][neighbor][\"weight\"] / q)\n",
    "    weight_sum = sum(weights)\n",
    "    # probability of each neighbor node\n",
    "    probabilities = [w/weight_sum for w in weights]\n",
    "    next = np.random.choice(neighbors, size=1, p=probabilities)[0]\n",
    "    return next\n",
    "\n",
    "def biased_random_walk(graph: Graph, num_walks: int, num_steps: int, p: float, q: float) -> List[Node[str]]:\n",
    "    walks = []\n",
    "    nodes = list(graph.nodes())\n",
    "    for walk_iteration in range(num_walks):\n",
    "        random.shuffle(nodes)\n",
    "        for node in tqdm(nodes, position=0, leave=True, desc=f\"Biased random walks iteration {walk_iteration}\"):\n",
    "            walk = [node]\n",
    "            while len(walk) < num_steps:\n",
    "                current = walk[-1]\n",
    "                previous = walk[-2] if len(walk) > 1 else None\n",
    "                next_node = next_step(graph=graph, previous=previous, current=current, p=p, q=q)\n",
    "                walk.append(next_node)\n",
    "            walk = [vocabulary_lookup[token] for token in walk]\n",
    "            walks.append(walk)\n",
    "    return walks"
   ]
  },
  {
   "cell_type": "markdown",
   "metadata": {},
   "source": [
    "# Generate training data using the biased random walk"
   ]
  },
  {
   "cell_type": "code",
   "execution_count": 127,
   "metadata": {},
   "outputs": [
    {
     "name": "stderr",
     "output_type": "stream",
     "text": [
      "Biased random walks iteration 0: 100%|██████████| 1405/1405 [00:06<00:00, 208.36it/s]\n",
      "Biased random walks iteration 1: 100%|██████████| 1405/1405 [00:07<00:00, 196.98it/s]\n",
      "Biased random walks iteration 2: 100%|██████████| 1405/1405 [00:07<00:00, 195.54it/s]\n",
      "Biased random walks iteration 3: 100%|██████████| 1405/1405 [00:06<00:00, 200.95it/s]\n",
      "Biased random walks iteration 4: 100%|██████████| 1405/1405 [00:06<00:00, 208.06it/s]"
     ]
    },
    {
     "name": "stdout",
     "output_type": "stream",
     "text": [
      "Number of walks generate (n.o_node * num_walk): 7025\n"
     ]
    },
    {
     "name": "stderr",
     "output_type": "stream",
     "text": [
      "\n"
     ]
    }
   ],
   "source": [
    "p = 1\n",
    "q = 1\n",
    "num_walks = 5\n",
    "num_steps = 10\n",
    "walks = biased_random_walk(\n",
    "    graph=movies_graph, \n",
    "    num_walks=num_walks,\n",
    "    num_steps=num_steps,\n",
    "    p=p,\n",
    "    q=q\n",
    "    )\n",
    "print(\"Number of walks generate (n.o_node * num_walk):\", len(walks))"
   ]
  },
  {
   "cell_type": "markdown",
   "metadata": {},
   "source": [
    "# Generate positive and negative examples from training data\n",
    "* Training skip-gram model:\n",
    "* Description:\n",
    "    * target: a movie in a walk sequence\n",
    "    * context: another movie in a walk sequence\n",
    "    * weight: how many times these two movies occur in walk sequences\n",
    "    * label: \n",
    "        * 1 if these two movie(target and context) are samples from the walk sequences\n",
    "        * 0 otherwise (if randomly sampled)"
   ]
  },
  {
   "cell_type": "code",
   "execution_count": 129,
   "metadata": {},
   "outputs": [
    {
     "name": "stderr",
     "output_type": "stream",
     "text": [
      "Generating positive and negative samples: 100%|██████████| 7025/7025 [00:14<00:00, 480.12it/s]\n"
     ]
    }
   ],
   "source": [
    "def generate_examples(sequences: List[Node], window_size: int, num_negative_samples: float, vocabulary_size: int) -> List:\n",
    "    example_weights = defaultdict(int)\n",
    "    for sequence in tqdm(sequences, position=0, leave=True, desc=\"Generating positive and negative samples\"):\n",
    "        pairs, lables = keras.preprocessing.sequence.skipgrams(\n",
    "            sequence, \n",
    "            vocabulary_size = vocabulary_size,\n",
    "            window_size = window_size,\n",
    "            negative_samples = num_negative_samples                                                   \n",
    "        )\n",
    "        for idx in range(len(pairs)):\n",
    "            pair = pairs[idx]\n",
    "            label = lables[idx]\n",
    "            target, context = min(pair[0], pair[1]), max(pair[0], pair[1])\n",
    "            if target==context:\n",
    "                continue # ignore same pair\n",
    "            entry = (target, context, label)\n",
    "            example_weights[entry] += 1\n",
    "    \n",
    "    targets, contexts, labels, weights = [], [], [], []\n",
    "    for entry in example_weights.keys():\n",
    "        weight = example_weights[entry]\n",
    "        target, context, label = entry\n",
    "        targets.append(target)\n",
    "        contexts.append(context)\n",
    "        labels.append(label)\n",
    "        weights.append(weight)\n",
    "    return np.array(targets), np.array(contexts), np.array(labels), np.array((weights))\n",
    "\n",
    "num_negative_samples = 4\n",
    "targets, contexts, labels, weights = generate_examples(\n",
    "    sequences=walks,\n",
    "    window_size=num_steps,\n",
    "    num_negative_samples=num_negative_samples,\n",
    "    vocabulary_size=len(vocabulary)\n",
    "    )\n"
   ]
  },
  {
   "cell_type": "code",
   "execution_count": 130,
   "metadata": {},
   "outputs": [
    {
     "name": "stdout",
     "output_type": "stream",
     "text": [
      "Targets shape: (884479,)\n",
      "Contexts shape: (884479,)\n",
      "Labels shape: (884479,)\n",
      "Weights shape: (884479,)\n"
     ]
    }
   ],
   "source": [
    "print(f\"Targets shape: {targets.shape}\")\n",
    "print(f\"Contexts shape: {contexts.shape}\")\n",
    "print(f\"Labels shape: {labels.shape}\")\n",
    "print(f\"Weights shape: {weights.shape}\")"
   ]
  },
  {
   "cell_type": "markdown",
   "metadata": {},
   "source": [
    "# Convert numpy array into tensorflow dataset"
   ]
  },
  {
   "cell_type": "code",
   "execution_count": 131,
   "metadata": {},
   "outputs": [],
   "source": [
    "def create_dataset(targets: List[int], contexts: List[int], labels: List[int], weights: List[int], batch_size: int) -> Dataset:\n",
    "    inputs = {\n",
    "        \"target\": targets,\n",
    "        \"context\": contexts\n",
    "    }\n",
    "    dataset = tf.data.Dataset.from_tensor_slices((inputs, labels, weights))\n",
    "    dataset = dataset.shuffle(buffer_size=batch_size*2)\n",
    "    dataset = dataset.batch(batch_size, drop_remainder=True)\n",
    "    dataset = dataset.prefetch(tf.data.AUTOTUNE)\n",
    "    return dataset\n",
    "batch_size = 1024\n",
    "dataset = create_dataset(\n",
    "    targets=targets,\n",
    "    contexts=contexts,\n",
    "    labels=labels,\n",
    "    weights=weights,\n",
    "    batch_size=batch_size\n",
    "    )"
   ]
  },
  {
   "cell_type": "markdown",
   "metadata": {},
   "source": [
    "# Train skip-gram model\n",
    "Our skip-gram is a simple binary classification model that works as follows:\n",
    "\n",
    "1. An embedding is looked up for the target movie.\n",
    "2. An embedding is looked up for the context movie.\n",
    "3. The dot product is computed between these two embeddings.\n",
    "4. The result (after a sigmoid activation) is compared to the label.\n",
    "5. A binary crossentropy loss is used"
   ]
  },
  {
   "cell_type": "code",
   "execution_count": 132,
   "metadata": {},
   "outputs": [],
   "source": [
    "learning_rate = 0.001\n",
    "embedding_dim = 50\n",
    "num_epochs = 10"
   ]
  },
  {
   "cell_type": "code",
   "execution_count": 133,
   "metadata": {},
   "outputs": [],
   "source": [
    "def create_model(vocabulary_size, embedding_dim):\n",
    "    inputs = {\n",
    "        \"target\": layers.Input(name=\"target\", shape=(), dtype=\"int32\"),\n",
    "        \"context\": layers.Input(name=\"context\", shape=(), dtype=\"int32\"),\n",
    "    }\n",
    "    # init item embedding\n",
    "    embed_item = layers.Embedding(\n",
    "        input_dim=vocabulary_size,\n",
    "        output_dim=embedding_dim,\n",
    "        embeddings_initializer=\"he_normal\",\n",
    "        embeddings_regularizer= keras.regularizers.l2(1e-6),\n",
    "        name=\"item_embeddings\",\n",
    "    )\n",
    "    target_embeddings = embed_item(inputs[\"target\"])\n",
    "    context_embeddings = embed_item(inputs[\"context\"])\n",
    "    logits = layers.Dot(axes=1, normalize=False, name=\"dot_similarity\")([target_embeddings, context_embeddings])\n",
    "    model = keras.Model(inputs= inputs, outputs= logits)\n",
    "    \n",
    "    return model\n",
    "    "
   ]
  },
  {
   "cell_type": "markdown",
   "metadata": {},
   "source": [
    "# Train the model"
   ]
  },
  {
   "cell_type": "code",
   "execution_count": 134,
   "metadata": {},
   "outputs": [],
   "source": [
    "model = create_model(vocabulary_size=len(vocabulary), embedding_dim=embedding_dim)\n",
    "model.compile(\n",
    "    optimizer= keras.optimizers.Adam(learning_rate=learning_rate),\n",
    "    loss= keras.losses.BinaryCrossentropy(from_logits=True),\n",
    ")"
   ]
  },
  {
   "cell_type": "code",
   "execution_count": 135,
   "metadata": {},
   "outputs": [
    {
     "name": "stdout",
     "output_type": "stream",
     "text": [
      "('You must install pydot (`pip install pydot`) and install graphviz (see instructions at https://graphviz.gitlab.io/download/) ', 'for plot_model/model_to_dot to work.')\n"
     ]
    }
   ],
   "source": [
    "keras.utils.plot_model(\n",
    "    model, show_shapes= True, show_dtype= True, show_layer_names= True\n",
    ")"
   ]
  },
  {
   "cell_type": "code",
   "execution_count": 136,
   "metadata": {},
   "outputs": [
    {
     "name": "stdout",
     "output_type": "stream",
     "text": [
      "Epoch 1/10\n",
      "863/863 [==============================] - 5s 6ms/step - loss: 2.4465\n",
      "Epoch 2/10\n",
      "863/863 [==============================] - 5s 6ms/step - loss: 2.3350\n",
      "Epoch 3/10\n",
      "863/863 [==============================] - 5s 6ms/step - loss: 2.3266\n",
      "Epoch 4/10\n",
      "863/863 [==============================] - 5s 6ms/step - loss: 2.3231\n",
      "Epoch 5/10\n",
      "863/863 [==============================] - 5s 6ms/step - loss: 2.3197\n",
      "Epoch 6/10\n",
      "863/863 [==============================] - 5s 6ms/step - loss: 2.3154\n",
      "Epoch 7/10\n",
      "863/863 [==============================] - 5s 6ms/step - loss: 2.3114\n",
      "Epoch 8/10\n",
      "863/863 [==============================] - 5s 6ms/step - loss: 2.3082\n",
      "Epoch 9/10\n",
      "863/863 [==============================] - 5s 6ms/step - loss: 2.3052\n",
      "Epoch 10/10\n",
      "863/863 [==============================] - 5s 6ms/step - loss: 2.3025\n"
     ]
    }
   ],
   "source": [
    "history = model.fit(dataset, epochs= num_epochs)"
   ]
  },
  {
   "cell_type": "code",
   "execution_count": 137,
   "metadata": {},
   "outputs": [
    {
     "data": {
      "image/png": "[encoded data removed]",
      "text/plain": [
       "<Figure size 432x288 with 1 Axes>"
      ]
     },
     "metadata": {
      "needs_background": "light"
     },
     "output_type": "display_data"
    }
   ],
   "source": [
    "plt.plot(history.history[\"loss\"])\n",
    "plt.ylabel(\"loss\")\n",
    "plt.xlabel(\"epoch\")\n",
    "plt.show()"
   ]
  },
  {
   "cell_type": "markdown",
   "metadata": {},
   "source": [
    "# Get embedding "
   ]
  },
  {
   "cell_type": "code",
   "execution_count": 138,
   "metadata": {},
   "outputs": [
    {
     "name": "stdout",
     "output_type": "stream",
     "text": [
      "movie embedding: (1406, 50)\n"
     ]
    }
   ],
   "source": [
    "movie_embeddings = model.get_layer(\"item_embeddings\").get_weights()[0]\n",
    "print(\"movie embedding:\", movie_embeddings.shape)"
   ]
  },
  {
   "cell_type": "code",
   "execution_count": 139,
   "metadata": {},
   "outputs": [],
   "source": [
    "query_movies = [\n",
    "    \"Toy Story (1995)\",\n",
    "    \"Jumanji (1995)\",\n",
    "]"
   ]
  },
  {
   "cell_type": "code",
   "execution_count": 140,
   "metadata": {},
   "outputs": [],
   "source": [
    "query_embeddings = []\n",
    "for movie in query_movies:\n",
    "    movie_id = get_movie_id_by_title(movie)\n",
    "    token_id = vocabulary_lookup[movie_id]\n",
    "    movie_embed = movie_embeddings[token_id]\n",
    "    query_embeddings.append(movie_embed)\n",
    "query_embeddings = np.array(query_embeddings)    "
   ]
  },
  {
   "cell_type": "code",
   "execution_count": 142,
   "metadata": {},
   "outputs": [],
   "source": [
    "similarities = tf.linalg.matmul(\n",
    "    tf.math.l2_normalize(query_embeddings),\n",
    "    tf.math.l2_normalize(movie_embeddings),\n",
    "    transpose_b=True\n",
    ")\n",
    "_, indices = tf.math.top_k(similarities, k= 5)\n",
    "indices = indices.numpy().tolist()"
   ]
  },
  {
   "cell_type": "code",
   "execution_count": 147,
   "metadata": {},
   "outputs": [
    {
     "name": "stdout",
     "output_type": "stream",
     "text": [
      "Toy Story (1995)\n",
      "----------------\n",
      "- Lion King, The (1994)\n",
      "- Toy Story (1995)\n",
      "- Beauty and the Beast (1991)\n",
      "- Aladdin (1992)\n",
      "- Braveheart (1995)\n",
      "\n",
      "Jumanji (1995)\n",
      "--------------\n",
      "- Ghost (1990)\n",
      "- Jumanji (1995)\n",
      "- Cliffhanger (1993)\n",
      "- Crimson Tide (1995)\n",
      "- Firm, The (1993)\n",
      "\n"
     ]
    }
   ],
   "source": [
    "for idx, title in enumerate(query_movies):\n",
    "    print(title)\n",
    "    print(\"\".rjust(len(title),\"-\"))\n",
    "    similar_tokens = indices[idx]\n",
    "    for token in similar_tokens:\n",
    "        similar_movieId = vocabulary[token]\n",
    "        similar_title = get_movie_title_by_id(similar_movieId)\n",
    "        print(f\"- {similar_title}\")\n",
    "    print()"
   ]
  },
  {
   "cell_type": "markdown",
   "metadata": {},
   "source": [
    "# Saving learnt embeddings"
   ]
  },
  {
   "cell_type": "code",
   "execution_count": 148,
   "metadata": {},
   "outputs": [],
   "source": [
    "import io\n",
    "\n",
    "out_v = io.open(\"embeddings.tsv\", \"w\", encoding=\"utf-8\")\n",
    "out_m = io.open(\"metadata.tsv\", \"w\", encoding=\"utf-8\")\n",
    "\n",
    "for idx, movie_id in enumerate(vocabulary[1:]):\n",
    "    movie_title = list(movies[movies.movieId == movie_id].title)[0]\n",
    "    vector = movie_embeddings[idx]\n",
    "    out_v.write(\"\\t\".join([str(x) for x in vector]) + \"\\n\")\n",
    "    out_m.write(movie_title + \"\\n\")\n",
    "\n",
    "out_v.close()\n",
    "out_m.close()"
   ]
  },
  {
   "cell_type": "code",
   "execution_count": null,
   "metadata": {},
   "outputs": [],
   "source": []
  }
 ],
 "metadata": {
  "interpreter": {
   "hash": "3ed25f2a2c9245f949ac170948405313bd3e1cd6f15f3487c28edb917327904a"
  },
  "kernelspec": {
   "display_name": "Python 3.6.13 64-bit ('d2l': conda)",
   "language": "python",
   "name": "python3"
  },
  "language_info": {
   "codemirror_mode": {
    "name": "ipython",
    "version": 3
   },
   "file_extension": ".py",
   "mimetype": "text/x-python",
   "name": "python",
   "nbconvert_exporter": "python",
   "pygments_lexer": "ipython3",
   "version": "3.9.2"
  },
  "orig_nbformat": 4
 },
 "nbformat": 4,
 "nbformat_minor": 2
}
